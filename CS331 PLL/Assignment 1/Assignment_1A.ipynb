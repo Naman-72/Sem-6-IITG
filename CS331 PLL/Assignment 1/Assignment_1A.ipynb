{
  "cells": [
    {
      "cell_type": "markdown",
      "metadata": {
        "id": "e1DTpzGVElcF"
      },
      "source": [
        "# **Programming Lab Assignment - 1A**"
      ]
    },
    {
      "cell_type": "markdown",
      "metadata": {
        "id": "7D_Ek8afE0R8"
      },
      "source": [
        "### **Complete the Bubble Sort Program**"
      ]
    },
    {
      "attachments": {},
      "cell_type": "markdown",
      "metadata": {
        "id": "iQ0X9FMrQmME"
      },
      "source": [
        "Name-- Naman Anand\n",
        "Roll_No-- 200101070"
      ]
    },
    {
      "cell_type": "code",
      "execution_count": 23,
      "metadata": {
        "id": "eFC2M2TrIwQN"
      },
      "outputs": [],
      "source": [
        "# Write the path of file uploaded in your drive. \n",
        "with open('/content/drive/MyDrive/CS331 Programming languages/data_file.txt', 'r') as f:\n",
        "    data = f.read()\n",
        "# Conversion of string list data to integer list.\n",
        "raw = [int(i) for i in data.split()]"
      ]
    },
    {
      "cell_type": "code",
      "execution_count": 24,
      "metadata": {
        "colab": {
          "base_uri": "https://localhost:8080/"
        },
        "id": "xlZev6DVGpVG",
        "outputId": "ebb20b16-82a2-49d6-9b1b-14ae325ff6e8"
      },
      "outputs": [
        {
          "name": "stdout",
          "output_type": "stream",
          "text": [
            "[2334, 2302, 2260, 2257, 2251, 2248, 2244, 2241, 2234, 2234, 2230, 2229, 2224, 2223, 2214, 2209, 2207, 2206, 2204, 2198]\n"
          ]
        }
      ],
      "source": [
        "# Code to find the maximum 20 values from the file.\n",
        "max_20=[]\n",
        "for i in range(0, 20):\n",
        "    max1 = 0\n",
        "    for j in range(len(raw)):    \n",
        "        if raw[j] > max1:\n",
        "            max1 = raw[j];\n",
        "                 \n",
        "    raw.remove(max1);\n",
        "    max_20.append(max1)\n",
        "         \n",
        "print(max_20)"
      ]
    },
    {
      "cell_type": "code",
      "execution_count": 25,
      "metadata": {
        "id": "Cf6oxmnMGACU"
      },
      "outputs": [],
      "source": [
        "# ........................................................................\n",
        "# ........................................................................\n",
        "# .................Write your BUBBLE SORT CODE here.......................\n",
        "# ........................................................................\n",
        "# ........................................................................"
      ]
    },
    {
      "cell_type": "code",
      "execution_count": 2,
      "metadata": {},
      "outputs": [
        {
          "name": "stdout",
          "output_type": "stream",
          "text": [
            "[1, 2, 3, 7, 10, 12, 13, 20]\n"
          ]
        }
      ],
      "source": [
        "for j in range(len(raw)-1):\n",
        "    for i in range(len(raw)-1):\n",
        "        if(raw[i]>raw[i+1]):\n",
        "            a = raw[i+1]\n",
        "            raw[i+1]= raw[i]\n",
        "            raw[i] = a\n",
        "print(raw)"
      ]
    },
    {
      "cell_type": "code",
      "execution_count": 26,
      "metadata": {
        "id": "a0VmgfMGKbxN"
      },
      "outputs": [],
      "source": [
        "# ........................................................................\n",
        "# ........................................................................\n",
        "# ........Write the sorted array into a file named \"B_SORT.txt\"...........\n",
        "# ........................................................................\n",
        "# ........................................................................"
      ]
    },
    {
      "cell_type": "code",
      "execution_count": 5,
      "metadata": {},
      "outputs": [],
      "source": [
        "f = open(\"B_SORT.txt\", \"w\")\n",
        "for i in raw :\n",
        "    f.write(str(i)+\"\\n\")\n",
        "f.close()"
      ]
    }
  ],
  "metadata": {
    "colab": {
      "provenance": []
    },
    "kernelspec": {
      "display_name": "Python 3.10.0 64-bit",
      "language": "python",
      "name": "python3"
    },
    "language_info": {
      "codemirror_mode": {
        "name": "ipython",
        "version": 3
      },
      "file_extension": ".py",
      "mimetype": "text/x-python",
      "name": "python",
      "nbconvert_exporter": "python",
      "pygments_lexer": "ipython3",
      "version": "3.10.0 (tags/v3.10.0:b494f59, Oct  4 2021, 19:00:18) [MSC v.1929 64 bit (AMD64)]"
    },
    "vscode": {
      "interpreter": {
        "hash": "76d7c06053c3456e5600312cec90888656fc0ed30c03d8425b9dac6e4fc8e014"
      }
    }
  },
  "nbformat": 4,
  "nbformat_minor": 0
}
